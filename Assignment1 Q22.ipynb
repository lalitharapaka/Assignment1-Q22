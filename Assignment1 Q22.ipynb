{
 "cells": [
  {
   "cell_type": "code",
   "execution_count": 1,
   "id": "291608c6",
   "metadata": {},
   "outputs": [],
   "source": [
    "### Calculate the Z scores of 90% confidence interval,94% confidence interval, 60% confidence interval.\n",
    "### for Adipose Tissue (AT) and Waist Circumference(Waist) from wc-at data set\n"
   ]
  },
  {
   "cell_type": "code",
   "execution_count": 4,
   "id": "afa2824c",
   "metadata": {},
   "outputs": [],
   "source": [
    "## importing required libraries\n",
    "\n",
    "from scipy import stats \n",
    "from scipy.stats import norm "
   ]
  },
  {
   "cell_type": "code",
   "execution_count": 7,
   "id": "f1622d4a",
   "metadata": {},
   "outputs": [
    {
     "data": {
      "text/plain": [
       "1.6448536269514722"
      ]
     },
     "execution_count": 7,
     "metadata": {},
     "output_type": "execute_result"
    }
   ],
   "source": [
    "#  formula A = (1 + CL)/2 where A= area under the normal distribution curve, CL = confidence level\n",
    "\n",
    "### Z score of 90% confidence interval\n",
    "## for 90%  A = (1+0.90)/2 = 0.95\n",
    "\n",
    "stats.norm.ppf(0.95)"
   ]
  },
  {
   "cell_type": "code",
   "execution_count": 9,
   "id": "8230e78e",
   "metadata": {},
   "outputs": [
    {
     "data": {
      "text/plain": [
       "1.8807936081512509"
      ]
     },
     "execution_count": 9,
     "metadata": {},
     "output_type": "execute_result"
    }
   ],
   "source": [
    "### Z score of 94% confidence interval\n",
    "## for 94%  A = (1+0.94)/2 = 0.97\n",
    "\n",
    "stats.norm.ppf(0.97)"
   ]
  },
  {
   "cell_type": "code",
   "execution_count": 10,
   "id": "63ee6940",
   "metadata": {},
   "outputs": [
    {
     "data": {
      "text/plain": [
       "0.8416212335729143"
      ]
     },
     "execution_count": 10,
     "metadata": {},
     "output_type": "execute_result"
    }
   ],
   "source": [
    "### Z score of 60% confidence interval\n",
    "## for 94%  A = (1+0.60)/2 = 0.8\n",
    "\n",
    "stats.norm.ppf(0.80)"
   ]
  },
  {
   "cell_type": "code",
   "execution_count": null,
   "id": "2e3d0c2d",
   "metadata": {},
   "outputs": [],
   "source": []
  }
 ],
 "metadata": {
  "kernelspec": {
   "display_name": "Python 3",
   "language": "python",
   "name": "python3"
  },
  "language_info": {
   "codemirror_mode": {
    "name": "ipython",
    "version": 3
   },
   "file_extension": ".py",
   "mimetype": "text/x-python",
   "name": "python",
   "nbconvert_exporter": "python",
   "pygments_lexer": "ipython3",
   "version": "3.8.8"
  }
 },
 "nbformat": 4,
 "nbformat_minor": 5
}
